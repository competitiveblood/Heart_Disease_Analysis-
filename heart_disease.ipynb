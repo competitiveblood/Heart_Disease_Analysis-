{
 "cells": [
  {
   "cell_type": "code",
   "id": "initial_id",
   "metadata": {
    "collapsed": true,
    "ExecuteTime": {
     "end_time": "2024-11-20T07:10:02.566839Z",
     "start_time": "2024-11-20T07:10:02.457993Z"
    }
   },
   "source": [
    "import pandas as pd\n",
    "from sklearn.preprocessing import MinMaxScaler\n",
    "\n",
    "# Load the dataset\n",
    "file_path = '.venv/Dataset/heart.csv'\n",
    "heart_data = pd.read_csv(file_path)\n",
    "\n",
    "# Check for missing values\n",
    "if heart_data.isnull().sum().any():\n",
    "    print(\"Handling missing values...\")\n",
    "    heart_data.fillna(heart_data.mean(), inplace=True)\n",
    "\n",
    "# Normalize numerical columns\n",
    "scaler = MinMaxScaler()\n",
    "numerical_columns = heart_data.select_dtypes(include=['int64', 'float64']).columns\n",
    "heart_data[numerical_columns] = scaler.fit_transform(heart_data[numerical_columns])\n",
    "\n",
    "# Split data into features and target\n",
    "X = heart_data.drop(columns=['output'])\n",
    "y = heart_data['output']\n"
   ],
   "outputs": [],
   "execution_count": 3
  },
  {
   "metadata": {
    "ExecuteTime": {
     "end_time": "2024-11-20T07:10:17.182867Z",
     "start_time": "2024-11-20T07:10:17.118782Z"
    }
   },
   "cell_type": "code",
   "source": [
    "from sklearn.feature_selection import SelectKBest, mutual_info_classif\n",
    "\n",
    "# Select top k features using mutual information\n",
    "k = 8\n",
    "selector = SelectKBest(score_func=mutual_info_classif, k=k)\n",
    "X_selected = selector.fit_transform(X, y)\n",
    "\n",
    "# Get selected feature names\n",
    "selected_features = X.columns[selector.get_support()]\n",
    "print(f\"Selected Features: {list(selected_features)}\")\n"
   ],
   "id": "a1f30a83df5965e1",
   "outputs": [
    {
     "name": "stdout",
     "output_type": "stream",
     "text": [
      "Selected Features: ['cp', 'chol', 'thalachh', 'exng', 'oldpeak', 'slp', 'caa', 'thall']\n"
     ]
    }
   ],
   "execution_count": 4
  },
  {
   "metadata": {
    "ExecuteTime": {
     "end_time": "2024-11-20T07:10:25.909604Z",
     "start_time": "2024-11-20T07:10:25.868620Z"
    }
   },
   "cell_type": "code",
   "source": [
    "from sklearn.model_selection import train_test_split\n",
    "\n",
    "# Split data into training and testing sets\n",
    "X_train, X_test, y_train, y_test = train_test_split(X_selected, y, test_size=0.2, random_state=42)\n"
   ],
   "id": "c3cc02e245b4688b",
   "outputs": [],
   "execution_count": 5
  },
  {
   "metadata": {
    "ExecuteTime": {
     "end_time": "2024-11-20T07:10:44.407984Z",
     "start_time": "2024-11-20T07:10:35.987446Z"
    }
   },
   "cell_type": "code",
   "source": [
    "from tensorflow.keras.models import Sequential\n",
    "from tensorflow.keras.layers import Dense, Conv1D, Flatten, Dropout\n",
    "\n",
    "# Reshape data for CNN\n",
    "X_train_reshaped = X_train.reshape(X_train.shape[0], X_train.shape[1], 1)\n",
    "X_test_reshaped = X_test.reshape(X_test.shape[0], X_test.shape[1], 1)\n",
    "\n",
    "# Define CNN model\n",
    "model = Sequential([\n",
    "    Conv1D(filters=32, kernel_size=2, activation='relu', input_shape=(X_train.shape[1], 1)),\n",
    "    Flatten(),\n",
    "    Dense(64, activation='relu'),\n",
    "    Dropout(0.3),\n",
    "    Dense(32, activation='relu'),\n",
    "    Dense(1, activation='sigmoid')  # Binary classification\n",
    "])\n",
    "\n",
    "# Compile and train the model\n",
    "model.compile(optimizer='adam', loss='binary_crossentropy', metrics=['accuracy'])\n",
    "model.fit(X_train_reshaped, y_train, epochs=50, batch_size=32, validation_data=(X_test_reshaped, y_test))\n"
   ],
   "id": "41767c95ad09ee7c",
   "outputs": [
    {
     "name": "stdout",
     "output_type": "stream",
     "text": [
      "Epoch 1/50\n"
     ]
    },
    {
     "name": "stderr",
     "output_type": "stream",
     "text": [
      "/Users/shivangisingh/PycharmProjects/Heart_Disease_Analysis /.venv/lib/python3.11/site-packages/keras/src/layers/convolutional/base_conv.py:107: UserWarning: Do not pass an `input_shape`/`input_dim` argument to a layer. When using Sequential models, prefer using an `Input(shape)` object as the first layer in the model instead.\n",
      "  super().__init__(activity_regularizer=activity_regularizer, **kwargs)\n"
     ]
    },
    {
     "name": "stdout",
     "output_type": "stream",
     "text": [
      "\u001B[1m8/8\u001B[0m \u001B[32m━━━━━━━━━━━━━━━━━━━━\u001B[0m\u001B[37m\u001B[0m \u001B[1m1s\u001B[0m 18ms/step - accuracy: 0.5814 - loss: 0.6833 - val_accuracy: 0.8197 - val_loss: 0.6315\n",
      "Epoch 2/50\n",
      "\u001B[1m8/8\u001B[0m \u001B[32m━━━━━━━━━━━━━━━━━━━━\u001B[0m\u001B[37m\u001B[0m \u001B[1m0s\u001B[0m 4ms/step - accuracy: 0.7910 - loss: 0.6323 - val_accuracy: 0.8033 - val_loss: 0.5765\n",
      "Epoch 3/50\n",
      "\u001B[1m8/8\u001B[0m \u001B[32m━━━━━━━━━━━━━━━━━━━━\u001B[0m\u001B[37m\u001B[0m \u001B[1m0s\u001B[0m 4ms/step - accuracy: 0.7653 - loss: 0.5921 - val_accuracy: 0.8033 - val_loss: 0.5246\n",
      "Epoch 4/50\n",
      "\u001B[1m8/8\u001B[0m \u001B[32m━━━━━━━━━━━━━━━━━━━━\u001B[0m\u001B[37m\u001B[0m \u001B[1m0s\u001B[0m 4ms/step - accuracy: 0.7791 - loss: 0.5426 - val_accuracy: 0.8197 - val_loss: 0.4779\n",
      "Epoch 5/50\n",
      "\u001B[1m8/8\u001B[0m \u001B[32m━━━━━━━━━━━━━━━━━━━━\u001B[0m\u001B[37m\u001B[0m \u001B[1m0s\u001B[0m 4ms/step - accuracy: 0.7538 - loss: 0.5148 - val_accuracy: 0.8361 - val_loss: 0.4430\n",
      "Epoch 6/50\n",
      "\u001B[1m8/8\u001B[0m \u001B[32m━━━━━━━━━━━━━━━━━━━━\u001B[0m\u001B[37m\u001B[0m \u001B[1m0s\u001B[0m 5ms/step - accuracy: 0.8006 - loss: 0.4708 - val_accuracy: 0.8525 - val_loss: 0.4266\n",
      "Epoch 7/50\n",
      "\u001B[1m8/8\u001B[0m \u001B[32m━━━━━━━━━━━━━━━━━━━━\u001B[0m\u001B[37m\u001B[0m \u001B[1m0s\u001B[0m 4ms/step - accuracy: 0.7656 - loss: 0.4776 - val_accuracy: 0.8525 - val_loss: 0.4187\n",
      "Epoch 8/50\n",
      "\u001B[1m8/8\u001B[0m \u001B[32m━━━━━━━━━━━━━━━━━━━━\u001B[0m\u001B[37m\u001B[0m \u001B[1m0s\u001B[0m 4ms/step - accuracy: 0.7907 - loss: 0.4317 - val_accuracy: 0.8852 - val_loss: 0.3922\n",
      "Epoch 9/50\n",
      "\u001B[1m8/8\u001B[0m \u001B[32m━━━━━━━━━━━━━━━━━━━━\u001B[0m\u001B[37m\u001B[0m \u001B[1m0s\u001B[0m 4ms/step - accuracy: 0.7838 - loss: 0.4376 - val_accuracy: 0.8525 - val_loss: 0.4106\n",
      "Epoch 10/50\n",
      "\u001B[1m8/8\u001B[0m \u001B[32m━━━━━━━━━━━━━━━━━━━━\u001B[0m\u001B[37m\u001B[0m \u001B[1m0s\u001B[0m 5ms/step - accuracy: 0.7806 - loss: 0.4326 - val_accuracy: 0.8689 - val_loss: 0.3842\n",
      "Epoch 11/50\n",
      "\u001B[1m8/8\u001B[0m \u001B[32m━━━━━━━━━━━━━━━━━━━━\u001B[0m\u001B[37m\u001B[0m \u001B[1m0s\u001B[0m 6ms/step - accuracy: 0.8141 - loss: 0.3842 - val_accuracy: 0.8689 - val_loss: 0.3780\n",
      "Epoch 12/50\n",
      "\u001B[1m8/8\u001B[0m \u001B[32m━━━━━━━━━━━━━━━━━━━━\u001B[0m\u001B[37m\u001B[0m \u001B[1m0s\u001B[0m 7ms/step - accuracy: 0.7900 - loss: 0.4409 - val_accuracy: 0.8689 - val_loss: 0.3902\n",
      "Epoch 13/50\n",
      "\u001B[1m8/8\u001B[0m \u001B[32m━━━━━━━━━━━━━━━━━━━━\u001B[0m\u001B[37m\u001B[0m \u001B[1m0s\u001B[0m 8ms/step - accuracy: 0.8203 - loss: 0.3956 - val_accuracy: 0.8689 - val_loss: 0.3806\n",
      "Epoch 14/50\n",
      "\u001B[1m8/8\u001B[0m \u001B[32m━━━━━━━━━━━━━━━━━━━━\u001B[0m\u001B[37m\u001B[0m \u001B[1m0s\u001B[0m 7ms/step - accuracy: 0.8025 - loss: 0.4298 - val_accuracy: 0.8689 - val_loss: 0.3722\n",
      "Epoch 15/50\n",
      "\u001B[1m8/8\u001B[0m \u001B[32m━━━━━━━━━━━━━━━━━━━━\u001B[0m\u001B[37m\u001B[0m \u001B[1m0s\u001B[0m 6ms/step - accuracy: 0.8372 - loss: 0.3842 - val_accuracy: 0.8689 - val_loss: 0.3845\n",
      "Epoch 16/50\n",
      "\u001B[1m8/8\u001B[0m \u001B[32m━━━━━━━━━━━━━━━━━━━━\u001B[0m\u001B[37m\u001B[0m \u001B[1m0s\u001B[0m 5ms/step - accuracy: 0.8124 - loss: 0.3882 - val_accuracy: 0.8689 - val_loss: 0.3762\n",
      "Epoch 17/50\n",
      "\u001B[1m8/8\u001B[0m \u001B[32m━━━━━━━━━━━━━━━━━━━━\u001B[0m\u001B[37m\u001B[0m \u001B[1m0s\u001B[0m 6ms/step - accuracy: 0.8411 - loss: 0.4241 - val_accuracy: 0.8689 - val_loss: 0.3778\n",
      "Epoch 18/50\n",
      "\u001B[1m8/8\u001B[0m \u001B[32m━━━━━━━━━━━━━━━━━━━━\u001B[0m\u001B[37m\u001B[0m \u001B[1m0s\u001B[0m 6ms/step - accuracy: 0.8492 - loss: 0.3870 - val_accuracy: 0.8689 - val_loss: 0.3757\n",
      "Epoch 19/50\n",
      "\u001B[1m8/8\u001B[0m \u001B[32m━━━━━━━━━━━━━━━━━━━━\u001B[0m\u001B[37m\u001B[0m \u001B[1m0s\u001B[0m 6ms/step - accuracy: 0.8074 - loss: 0.3877 - val_accuracy: 0.8689 - val_loss: 0.3770\n",
      "Epoch 20/50\n",
      "\u001B[1m8/8\u001B[0m \u001B[32m━━━━━━━━━━━━━━━━━━━━\u001B[0m\u001B[37m\u001B[0m \u001B[1m0s\u001B[0m 7ms/step - accuracy: 0.8655 - loss: 0.3211 - val_accuracy: 0.8689 - val_loss: 0.3674\n",
      "Epoch 21/50\n",
      "\u001B[1m8/8\u001B[0m \u001B[32m━━━━━━━━━━━━━━━━━━━━\u001B[0m\u001B[37m\u001B[0m \u001B[1m0s\u001B[0m 6ms/step - accuracy: 0.8472 - loss: 0.3810 - val_accuracy: 0.8689 - val_loss: 0.3885\n",
      "Epoch 22/50\n",
      "\u001B[1m8/8\u001B[0m \u001B[32m━━━━━━━━━━━━━━━━━━━━\u001B[0m\u001B[37m\u001B[0m \u001B[1m0s\u001B[0m 6ms/step - accuracy: 0.8244 - loss: 0.3819 - val_accuracy: 0.8852 - val_loss: 0.3616\n",
      "Epoch 23/50\n",
      "\u001B[1m8/8\u001B[0m \u001B[32m━━━━━━━━━━━━━━━━━━━━\u001B[0m\u001B[37m\u001B[0m \u001B[1m0s\u001B[0m 7ms/step - accuracy: 0.8102 - loss: 0.3850 - val_accuracy: 0.8689 - val_loss: 0.3659\n",
      "Epoch 24/50\n",
      "\u001B[1m8/8\u001B[0m \u001B[32m━━━━━━━━━━━━━━━━━━━━\u001B[0m\u001B[37m\u001B[0m \u001B[1m0s\u001B[0m 6ms/step - accuracy: 0.8531 - loss: 0.3665 - val_accuracy: 0.8525 - val_loss: 0.3875\n",
      "Epoch 25/50\n",
      "\u001B[1m8/8\u001B[0m \u001B[32m━━━━━━━━━━━━━━━━━━━━\u001B[0m\u001B[37m\u001B[0m \u001B[1m0s\u001B[0m 6ms/step - accuracy: 0.8108 - loss: 0.3873 - val_accuracy: 0.8689 - val_loss: 0.3711\n",
      "Epoch 26/50\n",
      "\u001B[1m8/8\u001B[0m \u001B[32m━━━━━━━━━━━━━━━━━━━━\u001B[0m\u001B[37m\u001B[0m \u001B[1m0s\u001B[0m 5ms/step - accuracy: 0.8600 - loss: 0.3535 - val_accuracy: 0.8689 - val_loss: 0.3780\n",
      "Epoch 27/50\n",
      "\u001B[1m8/8\u001B[0m \u001B[32m━━━━━━━━━━━━━━━━━━━━\u001B[0m\u001B[37m\u001B[0m \u001B[1m0s\u001B[0m 5ms/step - accuracy: 0.8266 - loss: 0.3719 - val_accuracy: 0.8525 - val_loss: 0.3865\n",
      "Epoch 28/50\n",
      "\u001B[1m8/8\u001B[0m \u001B[32m━━━━━━━━━━━━━━━━━━━━\u001B[0m\u001B[37m\u001B[0m \u001B[1m0s\u001B[0m 6ms/step - accuracy: 0.8364 - loss: 0.3677 - val_accuracy: 0.8689 - val_loss: 0.3876\n",
      "Epoch 29/50\n",
      "\u001B[1m8/8\u001B[0m \u001B[32m━━━━━━━━━━━━━━━━━━━━\u001B[0m\u001B[37m\u001B[0m \u001B[1m0s\u001B[0m 6ms/step - accuracy: 0.8517 - loss: 0.3771 - val_accuracy: 0.8689 - val_loss: 0.3857\n",
      "Epoch 30/50\n",
      "\u001B[1m8/8\u001B[0m \u001B[32m━━━━━━━━━━━━━━━━━━━━\u001B[0m\u001B[37m\u001B[0m \u001B[1m0s\u001B[0m 5ms/step - accuracy: 0.8512 - loss: 0.3478 - val_accuracy: 0.8852 - val_loss: 0.3874\n",
      "Epoch 31/50\n",
      "\u001B[1m8/8\u001B[0m \u001B[32m━━━━━━━━━━━━━━━━━━━━\u001B[0m\u001B[37m\u001B[0m \u001B[1m0s\u001B[0m 6ms/step - accuracy: 0.8487 - loss: 0.3436 - val_accuracy: 0.8852 - val_loss: 0.3896\n",
      "Epoch 32/50\n",
      "\u001B[1m8/8\u001B[0m \u001B[32m━━━━━━━━━━━━━━━━━━━━\u001B[0m\u001B[37m\u001B[0m \u001B[1m0s\u001B[0m 5ms/step - accuracy: 0.8853 - loss: 0.2956 - val_accuracy: 0.8689 - val_loss: 0.3954\n",
      "Epoch 33/50\n",
      "\u001B[1m8/8\u001B[0m \u001B[32m━━━━━━━━━━━━━━━━━━━━\u001B[0m\u001B[37m\u001B[0m \u001B[1m0s\u001B[0m 5ms/step - accuracy: 0.8252 - loss: 0.3785 - val_accuracy: 0.8852 - val_loss: 0.3850\n",
      "Epoch 34/50\n",
      "\u001B[1m8/8\u001B[0m \u001B[32m━━━━━━━━━━━━━━━━━━━━\u001B[0m\u001B[37m\u001B[0m \u001B[1m0s\u001B[0m 5ms/step - accuracy: 0.8544 - loss: 0.3692 - val_accuracy: 0.8525 - val_loss: 0.3981\n",
      "Epoch 35/50\n",
      "\u001B[1m8/8\u001B[0m \u001B[32m━━━━━━━━━━━━━━━━━━━━\u001B[0m\u001B[37m\u001B[0m \u001B[1m0s\u001B[0m 5ms/step - accuracy: 0.8451 - loss: 0.3838 - val_accuracy: 0.9016 - val_loss: 0.3838\n",
      "Epoch 36/50\n",
      "\u001B[1m8/8\u001B[0m \u001B[32m━━━━━━━━━━━━━━━━━━━━\u001B[0m\u001B[37m\u001B[0m \u001B[1m0s\u001B[0m 6ms/step - accuracy: 0.8408 - loss: 0.3658 - val_accuracy: 0.8525 - val_loss: 0.3919\n",
      "Epoch 37/50\n",
      "\u001B[1m8/8\u001B[0m \u001B[32m━━━━━━━━━━━━━━━━━━━━\u001B[0m\u001B[37m\u001B[0m \u001B[1m0s\u001B[0m 6ms/step - accuracy: 0.8797 - loss: 0.2986 - val_accuracy: 0.8525 - val_loss: 0.4014\n",
      "Epoch 38/50\n",
      "\u001B[1m8/8\u001B[0m \u001B[32m━━━━━━━━━━━━━━━━━━━━\u001B[0m\u001B[37m\u001B[0m \u001B[1m0s\u001B[0m 5ms/step - accuracy: 0.8634 - loss: 0.3218 - val_accuracy: 0.8525 - val_loss: 0.4045\n",
      "Epoch 39/50\n",
      "\u001B[1m8/8\u001B[0m \u001B[32m━━━━━━━━━━━━━━━━━━━━\u001B[0m\u001B[37m\u001B[0m \u001B[1m0s\u001B[0m 6ms/step - accuracy: 0.8795 - loss: 0.2879 - val_accuracy: 0.9016 - val_loss: 0.3948\n",
      "Epoch 40/50\n",
      "\u001B[1m8/8\u001B[0m \u001B[32m━━━━━━━━━━━━━━━━━━━━\u001B[0m\u001B[37m\u001B[0m \u001B[1m0s\u001B[0m 6ms/step - accuracy: 0.8642 - loss: 0.3245 - val_accuracy: 0.8852 - val_loss: 0.4005\n",
      "Epoch 41/50\n",
      "\u001B[1m8/8\u001B[0m \u001B[32m━━━━━━━━━━━━━━━━━━━━\u001B[0m\u001B[37m\u001B[0m \u001B[1m0s\u001B[0m 6ms/step - accuracy: 0.8802 - loss: 0.3148 - val_accuracy: 0.9016 - val_loss: 0.4008\n",
      "Epoch 42/50\n",
      "\u001B[1m8/8\u001B[0m \u001B[32m━━━━━━━━━━━━━━━━━━━━\u001B[0m\u001B[37m\u001B[0m \u001B[1m0s\u001B[0m 5ms/step - accuracy: 0.8386 - loss: 0.3323 - val_accuracy: 0.8689 - val_loss: 0.4124\n",
      "Epoch 43/50\n",
      "\u001B[1m8/8\u001B[0m \u001B[32m━━━━━━━━━━━━━━━━━━━━\u001B[0m\u001B[37m\u001B[0m \u001B[1m0s\u001B[0m 5ms/step - accuracy: 0.8928 - loss: 0.2875 - val_accuracy: 0.9016 - val_loss: 0.4128\n",
      "Epoch 44/50\n",
      "\u001B[1m8/8\u001B[0m \u001B[32m━━━━━━━━━━━━━━━━━━━━\u001B[0m\u001B[37m\u001B[0m \u001B[1m0s\u001B[0m 5ms/step - accuracy: 0.8746 - loss: 0.2977 - val_accuracy: 0.8525 - val_loss: 0.4218\n",
      "Epoch 45/50\n",
      "\u001B[1m8/8\u001B[0m \u001B[32m━━━━━━━━━━━━━━━━━━━━\u001B[0m\u001B[37m\u001B[0m \u001B[1m0s\u001B[0m 5ms/step - accuracy: 0.8633 - loss: 0.2845 - val_accuracy: 0.8852 - val_loss: 0.4110\n",
      "Epoch 46/50\n",
      "\u001B[1m8/8\u001B[0m \u001B[32m━━━━━━━━━━━━━━━━━━━━\u001B[0m\u001B[37m\u001B[0m \u001B[1m0s\u001B[0m 5ms/step - accuracy: 0.8721 - loss: 0.3091 - val_accuracy: 0.8852 - val_loss: 0.4170\n",
      "Epoch 47/50\n",
      "\u001B[1m8/8\u001B[0m \u001B[32m━━━━━━━━━━━━━━━━━━━━\u001B[0m\u001B[37m\u001B[0m \u001B[1m0s\u001B[0m 6ms/step - accuracy: 0.8303 - loss: 0.3429 - val_accuracy: 0.8689 - val_loss: 0.4171\n",
      "Epoch 48/50\n",
      "\u001B[1m8/8\u001B[0m \u001B[32m━━━━━━━━━━━━━━━━━━━━\u001B[0m\u001B[37m\u001B[0m \u001B[1m0s\u001B[0m 5ms/step - accuracy: 0.8400 - loss: 0.3570 - val_accuracy: 0.8852 - val_loss: 0.4083\n",
      "Epoch 49/50\n",
      "\u001B[1m8/8\u001B[0m \u001B[32m━━━━━━━━━━━━━━━━━━━━\u001B[0m\u001B[37m\u001B[0m \u001B[1m0s\u001B[0m 5ms/step - accuracy: 0.8642 - loss: 0.2931 - val_accuracy: 0.8852 - val_loss: 0.4132\n",
      "Epoch 50/50\n",
      "\u001B[1m8/8\u001B[0m \u001B[32m━━━━━━━━━━━━━━━━━━━━\u001B[0m\u001B[37m\u001B[0m \u001B[1m0s\u001B[0m 5ms/step - accuracy: 0.8900 - loss: 0.2552 - val_accuracy: 0.8689 - val_loss: 0.4300\n"
     ]
    },
    {
     "data": {
      "text/plain": [
       "<keras.src.callbacks.history.History at 0x156f565d0>"
      ]
     },
     "execution_count": 6,
     "metadata": {},
     "output_type": "execute_result"
    }
   ],
   "execution_count": 6
  },
  {
   "metadata": {
    "ExecuteTime": {
     "end_time": "2024-11-20T07:10:56.396218Z",
     "start_time": "2024-11-20T07:10:55.980673Z"
    }
   },
   "cell_type": "code",
   "source": [
    "from sklearn.ensemble import RandomForestClassifier\n",
    "\n",
    "# Train Random Forest model\n",
    "rf_model = RandomForestClassifier(random_state=42)\n",
    "rf_model.fit(X_train, y_train)\n",
    "\n",
    "# Predictions from Random Forest\n",
    "rf_predictions = rf_model.predict(X_test)\n",
    "\n",
    "# Predictions from CNN\n",
    "cnn_preds = model.predict(X_test_reshaped).flatten()\n",
    "\n",
    "# Ensemble predictions (simple averaging)\n",
    "ensemble_preds = (cnn_preds > 0.5).astype(int) + rf_predictions\n",
    "ensemble_preds = (ensemble_preds > 1).astype(int)\n"
   ],
   "id": "1829a0a93f8198c2",
   "outputs": [
    {
     "name": "stdout",
     "output_type": "stream",
     "text": [
      "\u001B[1m2/2\u001B[0m \u001B[32m━━━━━━━━━━━━━━━━━━━━\u001B[0m\u001B[37m\u001B[0m \u001B[1m0s\u001B[0m 56ms/step\n"
     ]
    }
   ],
   "execution_count": 7
  },
  {
   "metadata": {
    "ExecuteTime": {
     "end_time": "2024-11-20T07:12:12.814211Z",
     "start_time": "2024-11-20T07:12:12.326761Z"
    }
   },
   "cell_type": "code",
   "source": [
    "import shap\n",
    "\n",
    "# Explain Random Forest predictions using SHAP\n",
    "explainer = shap.Explainer(rf_model, X_train)\n",
    "shap_values = explainer(X_test)\n",
    "\n",
    "# Visualize feature importance\n",
    "shap.summary_plot(shap_values, X_test, feature_names=selected_features)\n"
   ],
   "id": "c80ba6cfc639f042",
   "outputs": [
    {
     "ename": "ImportError",
     "evalue": "Numba needs NumPy 2.0 or less. Got NumPy 2.1.",
     "output_type": "error",
     "traceback": [
      "\u001B[0;31m---------------------------------------------------------------------------\u001B[0m",
      "\u001B[0;31mImportError\u001B[0m                               Traceback (most recent call last)",
      "Cell \u001B[0;32mIn[9], line 1\u001B[0m\n\u001B[0;32m----> 1\u001B[0m \u001B[38;5;28;01mimport\u001B[39;00m \u001B[38;5;21;01mshap\u001B[39;00m\n\u001B[1;32m      3\u001B[0m \u001B[38;5;66;03m# Explain Random Forest predictions using SHAP\u001B[39;00m\n\u001B[1;32m      4\u001B[0m explainer \u001B[38;5;241m=\u001B[39m shap\u001B[38;5;241m.\u001B[39mExplainer(rf_model, X_train)\n",
      "File \u001B[0;32m~/PycharmProjects/Heart_Disease_Analysis /.venv/lib/python3.11/site-packages/shap/__init__.py:1\u001B[0m\n\u001B[0;32m----> 1\u001B[0m \u001B[38;5;28;01mfrom\u001B[39;00m \u001B[38;5;21;01m.\u001B[39;00m\u001B[38;5;21;01m_explanation\u001B[39;00m \u001B[38;5;28;01mimport\u001B[39;00m Cohorts, Explanation\n\u001B[1;32m      3\u001B[0m \u001B[38;5;66;03m# explainers\u001B[39;00m\n\u001B[1;32m      4\u001B[0m \u001B[38;5;28;01mfrom\u001B[39;00m \u001B[38;5;21;01m.\u001B[39;00m\u001B[38;5;21;01mexplainers\u001B[39;00m \u001B[38;5;28;01mimport\u001B[39;00m other\n",
      "File \u001B[0;32m~/PycharmProjects/Heart_Disease_Analysis /.venv/lib/python3.11/site-packages/shap/_explanation.py:13\u001B[0m\n\u001B[1;32m     10\u001B[0m \u001B[38;5;28;01mimport\u001B[39;00m \u001B[38;5;21;01msklearn\u001B[39;00m\n\u001B[1;32m     11\u001B[0m \u001B[38;5;28;01mfrom\u001B[39;00m \u001B[38;5;21;01mslicer\u001B[39;00m \u001B[38;5;28;01mimport\u001B[39;00m Alias, Obj, Slicer\n\u001B[0;32m---> 13\u001B[0m \u001B[38;5;28;01mfrom\u001B[39;00m \u001B[38;5;21;01m.\u001B[39;00m\u001B[38;5;21;01mutils\u001B[39;00m\u001B[38;5;21;01m.\u001B[39;00m\u001B[38;5;21;01m_exceptions\u001B[39;00m \u001B[38;5;28;01mimport\u001B[39;00m DimensionError\n\u001B[1;32m     14\u001B[0m \u001B[38;5;28;01mfrom\u001B[39;00m \u001B[38;5;21;01m.\u001B[39;00m\u001B[38;5;21;01mutils\u001B[39;00m\u001B[38;5;21;01m.\u001B[39;00m\u001B[38;5;21;01m_general\u001B[39;00m \u001B[38;5;28;01mimport\u001B[39;00m OpChain\n\u001B[1;32m     16\u001B[0m op_chain_root \u001B[38;5;241m=\u001B[39m OpChain(\u001B[38;5;124m\"\u001B[39m\u001B[38;5;124mshap.Explanation\u001B[39m\u001B[38;5;124m\"\u001B[39m)\n",
      "File \u001B[0;32m~/PycharmProjects/Heart_Disease_Analysis /.venv/lib/python3.11/site-packages/shap/utils/__init__.py:1\u001B[0m\n\u001B[0;32m----> 1\u001B[0m \u001B[38;5;28;01mfrom\u001B[39;00m \u001B[38;5;21;01m.\u001B[39;00m\u001B[38;5;21;01m_clustering\u001B[39;00m \u001B[38;5;28;01mimport\u001B[39;00m (\n\u001B[1;32m      2\u001B[0m     delta_minimization_order,\n\u001B[1;32m      3\u001B[0m     hclust,\n\u001B[1;32m      4\u001B[0m     hclust_ordering,\n\u001B[1;32m      5\u001B[0m     partition_tree,\n\u001B[1;32m      6\u001B[0m     partition_tree_shuffle,\n\u001B[1;32m      7\u001B[0m )\n\u001B[1;32m      8\u001B[0m \u001B[38;5;28;01mfrom\u001B[39;00m \u001B[38;5;21;01m.\u001B[39;00m\u001B[38;5;21;01m_general\u001B[39;00m \u001B[38;5;28;01mimport\u001B[39;00m (\n\u001B[1;32m      9\u001B[0m     OpChain,\n\u001B[1;32m     10\u001B[0m     approximate_interactions,\n\u001B[0;32m   (...)\u001B[0m\n\u001B[1;32m     20\u001B[0m     suppress_stderr,\n\u001B[1;32m     21\u001B[0m )\n\u001B[1;32m     22\u001B[0m \u001B[38;5;28;01mfrom\u001B[39;00m \u001B[38;5;21;01m.\u001B[39;00m\u001B[38;5;21;01m_masked_model\u001B[39;00m \u001B[38;5;28;01mimport\u001B[39;00m MaskedModel, make_masks\n",
      "File \u001B[0;32m~/PycharmProjects/Heart_Disease_Analysis /.venv/lib/python3.11/site-packages/shap/utils/_clustering.py:8\u001B[0m\n\u001B[1;32m      6\u001B[0m \u001B[38;5;28;01mimport\u001B[39;00m \u001B[38;5;21;01mscipy\u001B[39;00m\u001B[38;5;21;01m.\u001B[39;00m\u001B[38;5;21;01mspatial\u001B[39;00m\n\u001B[1;32m      7\u001B[0m \u001B[38;5;28;01mimport\u001B[39;00m \u001B[38;5;21;01msklearn\u001B[39;00m\n\u001B[0;32m----> 8\u001B[0m \u001B[38;5;28;01mfrom\u001B[39;00m \u001B[38;5;21;01mnumba\u001B[39;00m \u001B[38;5;28;01mimport\u001B[39;00m njit\n\u001B[1;32m     10\u001B[0m \u001B[38;5;28;01mfrom\u001B[39;00m \u001B[38;5;21;01m.\u001B[39;00m\u001B[38;5;21;01m_show_progress\u001B[39;00m \u001B[38;5;28;01mimport\u001B[39;00m show_progress\n\u001B[1;32m     13\u001B[0m \u001B[38;5;28;01mdef\u001B[39;00m \u001B[38;5;21mpartition_tree\u001B[39m(X, metric\u001B[38;5;241m=\u001B[39m\u001B[38;5;124m\"\u001B[39m\u001B[38;5;124mcorrelation\u001B[39m\u001B[38;5;124m\"\u001B[39m):\n",
      "File \u001B[0;32m~/PycharmProjects/Heart_Disease_Analysis /.venv/lib/python3.11/site-packages/numba/__init__.py:59\u001B[0m\n\u001B[1;32m     54\u001B[0m             msg \u001B[38;5;241m=\u001B[39m (\u001B[38;5;124m\"\u001B[39m\u001B[38;5;124mNumba requires SciPy version 1.0 or greater. Got SciPy \u001B[39m\u001B[38;5;124m\"\u001B[39m\n\u001B[1;32m     55\u001B[0m                    \u001B[38;5;124mf\u001B[39m\u001B[38;5;124m\"\u001B[39m\u001B[38;5;132;01m{\u001B[39;00mscipy\u001B[38;5;241m.\u001B[39m__version__\u001B[38;5;132;01m}\u001B[39;00m\u001B[38;5;124m.\u001B[39m\u001B[38;5;124m\"\u001B[39m)\n\u001B[1;32m     56\u001B[0m             \u001B[38;5;28;01mraise\u001B[39;00m \u001B[38;5;167;01mImportError\u001B[39;00m(msg)\n\u001B[0;32m---> 59\u001B[0m \u001B[43m_ensure_critical_deps\u001B[49m\u001B[43m(\u001B[49m\u001B[43m)\u001B[49m\n\u001B[1;32m     60\u001B[0m \u001B[38;5;66;03m# END DO NOT MOVE\u001B[39;00m\n\u001B[1;32m     61\u001B[0m \u001B[38;5;66;03m# ---------------------- WARNING WARNING WARNING ----------------------------\u001B[39;00m\n\u001B[1;32m     64\u001B[0m \u001B[38;5;28;01mfrom\u001B[39;00m \u001B[38;5;21;01m.\u001B[39;00m\u001B[38;5;21;01m_version\u001B[39;00m \u001B[38;5;28;01mimport\u001B[39;00m get_versions\n",
      "File \u001B[0;32m~/PycharmProjects/Heart_Disease_Analysis /.venv/lib/python3.11/site-packages/numba/__init__.py:45\u001B[0m, in \u001B[0;36m_ensure_critical_deps\u001B[0;34m()\u001B[0m\n\u001B[1;32m     42\u001B[0m \u001B[38;5;28;01mif\u001B[39;00m numpy_version \u001B[38;5;241m>\u001B[39m (\u001B[38;5;241m2\u001B[39m, \u001B[38;5;241m0\u001B[39m):\n\u001B[1;32m     43\u001B[0m     msg \u001B[38;5;241m=\u001B[39m (\u001B[38;5;124mf\u001B[39m\u001B[38;5;124m\"\u001B[39m\u001B[38;5;124mNumba needs NumPy 2.0 or less. Got NumPy \u001B[39m\u001B[38;5;124m\"\u001B[39m\n\u001B[1;32m     44\u001B[0m            \u001B[38;5;124mf\u001B[39m\u001B[38;5;124m\"\u001B[39m\u001B[38;5;132;01m{\u001B[39;00mnumpy_version[\u001B[38;5;241m0\u001B[39m]\u001B[38;5;132;01m}\u001B[39;00m\u001B[38;5;124m.\u001B[39m\u001B[38;5;132;01m{\u001B[39;00mnumpy_version[\u001B[38;5;241m1\u001B[39m]\u001B[38;5;132;01m}\u001B[39;00m\u001B[38;5;124m.\u001B[39m\u001B[38;5;124m\"\u001B[39m)\n\u001B[0;32m---> 45\u001B[0m     \u001B[38;5;28;01mraise\u001B[39;00m \u001B[38;5;167;01mImportError\u001B[39;00m(msg)\n\u001B[1;32m     47\u001B[0m \u001B[38;5;28;01mtry\u001B[39;00m:\n\u001B[1;32m     48\u001B[0m     \u001B[38;5;28;01mimport\u001B[39;00m \u001B[38;5;21;01mscipy\u001B[39;00m\n",
      "\u001B[0;31mImportError\u001B[0m: Numba needs NumPy 2.0 or less. Got NumPy 2.1."
     ]
    }
   ],
   "execution_count": 9
  },
  {
   "metadata": {
    "ExecuteTime": {
     "end_time": "2024-11-20T07:12:43.707699Z",
     "start_time": "2024-11-20T07:12:43.628496Z"
    }
   },
   "cell_type": "code",
   "source": [
    "from sklearn.metrics import accuracy_score, precision_score, recall_score, f1_score, roc_auc_score\n",
    "\n",
    "# Evaluate the model\n",
    "metrics = {\n",
    "    \"Accuracy\": accuracy_score(y_test, ensemble_preds),\n",
    "    \"Precision\": precision_score(y_test, ensemble_preds),\n",
    "    \"Recall\": recall_score(y_test, ensemble_preds),\n",
    "    \"F1 Score\": f1_score(y_test, ensemble_preds),\n",
    "    \"AUC-ROC\": roc_auc_score(y_test, cnn_preds)\n",
    "}\n",
    "\n",
    "print(\"Model Performance Metrics:\")\n",
    "for key, value in metrics.items():\n",
    "    print(f\"{key}: {value:.4f}\")\n"
   ],
   "id": "1ad96d15e872892",
   "outputs": [
    {
     "name": "stdout",
     "output_type": "stream",
     "text": [
      "Model Performance Metrics:\n",
      "Accuracy: 0.8525\n",
      "Precision: 0.8710\n",
      "Recall: 0.8438\n",
      "F1 Score: 0.8571\n",
      "AUC-ROC: 0.8998\n"
     ]
    }
   ],
   "execution_count": 10
  },
  {
   "metadata": {},
   "cell_type": "code",
   "outputs": [],
   "execution_count": null,
   "source": "",
   "id": "e3160b5aca6bec"
  }
 ],
 "metadata": {
  "kernelspec": {
   "display_name": "Python 3",
   "language": "python",
   "name": "python3"
  },
  "language_info": {
   "codemirror_mode": {
    "name": "ipython",
    "version": 2
   },
   "file_extension": ".py",
   "mimetype": "text/x-python",
   "name": "python",
   "nbconvert_exporter": "python",
   "pygments_lexer": "ipython2",
   "version": "2.7.6"
  }
 },
 "nbformat": 4,
 "nbformat_minor": 5
}
